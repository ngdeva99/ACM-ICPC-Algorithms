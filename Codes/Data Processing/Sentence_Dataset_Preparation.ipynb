{
  "nbformat": 4,
  "nbformat_minor": 0,
  "metadata": {
    "accelerator": "GPU",
    "colab": {
      "name": "Sentence Dataset Preparation.ipynb",
      "provenance": [],
      "include_colab_link": true
    },
    "kernelspec": {
      "display_name": "Python 3",
      "language": "python",
      "name": "python3"
    },
    "language_info": {
      "codemirror_mode": {
        "name": "ipython",
        "version": 3
      },
      "file_extension": ".py",
      "mimetype": "text/x-python",
      "name": "python",
      "nbconvert_exporter": "python",
      "pygments_lexer": "ipython3",
      "version": "3.7.3"
    }
  },
  "cells": [
    {
      "cell_type": "markdown",
      "metadata": {
        "id": "view-in-github",
        "colab_type": "text"
      },
      "source": [
        "<a href=\"https://colab.research.google.com/github/ngdeva99/ACM-ICPC-Algorithms/blob/master/Codes/Data%20Processing/Sentence_Dataset_Preparation.ipynb\" target=\"_parent\"><img src=\"https://colab.research.google.com/assets/colab-badge.svg\" alt=\"Open In Colab\"/></a>"
      ]
    },
    {
      "cell_type": "markdown",
      "metadata": {
        "id": "GEDiWSkaCnan"
      },
      "source": [
        "#**RP Dataset Preparation**\n",
        "\n",
        "*   CSV Generation from .wav Files.\n",
        "*   RP Generation from CSV\n",
        "*   Energy Distribution Visualization\n",
        "\n",
        "\n",
        "\n",
        "\n",
        "\n",
        "\n",
        "---\n",
        "\n"
      ]
    },
    {
      "cell_type": "markdown",
      "metadata": {
        "id": "TuMGu1H0Bebu"
      },
      "source": [
        "## **CSV Generation from .wav files**\n"
      ]
    },
    {
      "cell_type": "markdown",
      "metadata": {
        "id": "ALKWCGk_EWqY"
      },
      "source": [
        "###**Imports**"
      ]
    },
    {
      "cell_type": "code",
      "metadata": {
        "id": "kPRdFNr7EC9H"
      },
      "source": [
        "import os\n",
        "import numpy as np\n",
        "import librosa\n",
        "import pandas as pd"
      ],
      "execution_count": null,
      "outputs": []
    },
    {
      "cell_type": "markdown",
      "metadata": {
        "id": "gSeIMSFTEegh"
      },
      "source": [
        "###**Librosa Code to Generate CSV**"
      ]
    },
    {
      "cell_type": "code",
      "metadata": {
        "scrolled": false,
        "id": "J3VqHTsFBebx"
      },
      "source": [
        "def gernerate_csv_files(speaker):\n",
        "  #Assigning the the root directory of the dataset\n",
        "  root_dir=\"C:/Users/Navein Kumar/Downloads/Compressed/6speakers_wav/6speakers_wav/\" + speaker +\"/\"\n",
        "  for dir_, _, files in os.walk(root_dir):\n",
        "      for file_name in files:\n",
        "          if not file_name == '.DS_Store' and file_name[-5:]!='ipynb':\n",
        "              rel_dir = os.path.relpath(dir_, root_dir)\n",
        "              rel_file = os.path.join(rel_dir, file_name)\n",
        "              file_no_ext,ext=os.path.splitext(file_name)\n",
        "\n",
        "              y, sr = librosa.load(root_dir + rel_file)\n",
        "\n",
        "\n",
        "              np.savetxt(root_dir+rel_dir+\"/\"+file_no_ext+\".csv\",y.transpose(),delimiter=\",\")\n"
      ],
      "execution_count": null,
      "outputs": []
    },
    {
      "cell_type": "markdown",
      "metadata": {
        "id": "m_tIrrvSGYwl"
      },
      "source": [
        "###**Invoking CSV Generation Code for all Speakers**"
      ]
    },
    {
      "cell_type": "code",
      "metadata": {
        "id": "NcrBSD3lGkWX"
      },
      "source": [
        "speakers=[\"Anusuya\",\"Divya\",\"Giri\",\"Robert\"]\n",
        "for speaker in speakers:\n",
        "  generare_csv_file(speaker) #-> uncommet it u havent generated"
      ],
      "execution_count": null,
      "outputs": []
    },
    {
      "cell_type": "markdown",
      "metadata": {
        "id": "MMgcO67XG11y"
      },
      "source": [
        "##**RP Generation from CSV**"
      ]
    },
    {
      "cell_type": "markdown",
      "metadata": {
        "id": "SPXMEZv4HIN5"
      },
      "source": [
        "###**Imports**"
      ]
    },
    {
      "cell_type": "code",
      "metadata": {
        "id": "2TkDltsCHMU0"
      },
      "source": [
        "from matplotlib import pyplot as plt\n",
        "from IPython.display import display_html\n",
        "\n",
        "import matplotlib.image as mpimg\n",
        "import IPython.display as ipd\n",
        "from sklearn.preprocessing import MinMaxScaler\n",
        "import pyts\n",
        "from pyts.image import RecurrencePlot"
      ],
      "execution_count": null,
      "outputs": []
    },
    {
      "cell_type": "markdown",
      "metadata": {
        "id": "023h82qmHTVg"
      },
      "source": [
        "###**Optimization Code to Restart Kernel at Regular Intervals for Faster Generation Rate**"
      ]
    },
    {
      "cell_type": "code",
      "metadata": {
        "id": "P4ITgKlbHiO9"
      },
      "source": [
        "def restartkernel() :\n",
        "  display_html(\"<script>Jupyter.notebook.kernel.restart(); setTimeout(function(){IPython.notebook.execute_all_cells();}, 10000)</script>\",raw=True)"
      ],
      "execution_count": null,
      "outputs": []
    },
    {
      "cell_type": "markdown",
      "metadata": {
        "id": "UflQj3UVIaO9"
      },
      "source": [
        "###**RP Generation Code**"
      ]
    },
    {
      "cell_type": "code",
      "metadata": {
        "id": "QAB2MvanIkmP"
      },
      "source": [
        "def generate_rp(frame, dimension, threshold, percentage, file_name, count,time_delay):\n",
        "    \n",
        "    #Preparing RP Data as an numpy array\n",
        "    data_rp = []\n",
        "    data_rp.append(frame.values.reshape(1,-1))\n",
        "    data_rp.append(frame.values.reshape(1,-1))\n",
        "    data_rp = np.asarray(data_rp)\n",
        "\n",
        "    \n",
        "    # Recurrence plot transformation\n",
        "    #X_rp1 = RecurrencePlot(dimension=3, time_delay=1,threshold=None, percentage=0).fit_transform(data_rp[0])[0]\n",
        "    X_rp1 = RecurrencePlot(dimension=dimension, time_delay=time_delay,threshold=threshold, percentage=percentage).fit_transform(data_rp[0])[0]\n",
        "\n",
        "    #Applying cmap = binary to generate grayscale image.\n",
        "    imgplot = plt.imshow(X_rp1, cmap='binary', origin='lower')\n",
        "\n",
        "    fig1 = plt.gcf()\n",
        "    #plt.show() -> uncomment to visualize the RP Plot Created\n",
        "    plt.draw()\n",
        "    fig1.savefig(file_name+'_RP'+str(count)+'.png')"
      ],
      "execution_count": null,
      "outputs": []
    },
    {
      "cell_type": "markdown",
      "metadata": {
        "id": "BMX2li0NMDoV"
      },
      "source": [
        "###**Invoking RP Generation Code**"
      ]
    },
    {
      "cell_type": "code",
      "metadata": {
        "id": "ZS3-LDrMHES_"
      },
      "source": [
        "\n",
        "def compute_total_energy_average(data_frame):    \n",
        "  array=data_frame.to_numpy()\n",
        "  energy=0\n",
        "\n",
        "  for i in range(len(array)):\n",
        "      energy+=pow(array[i][0],2)\n",
        "\n",
        "  return energy  \n",
        "def remove_files(files):\n",
        "  for i in files:\n",
        "    os.remove(i)\n",
        "\n",
        "\n",
        "    \n",
        "root_dir=\"C:/Users/Navein Kumar/Downloads/Compressed/6speakers_wav/6speakers_wav/Anusuya/\"\n",
        "file_names=[]\n",
        "for dir_, _, files in os.walk(root_dir):\n",
        "  for file_name in files:\n",
        "    if len(file_names)>15:\n",
        "      #removing csv files after RP Generation\n",
        "      remove_files(file_names)\n",
        "      file_names=[]\n",
        "      #Will Restart the kernel for every 15 RP's Generated\n",
        "      print(\"gonna restart kernel\")\n",
        "      restartkernel()\n",
        "      print(file_name)\n",
        "\n",
        "    #Applying this condition to eliminate junk and unsupported files\n",
        "    if  file_name!= '.DS_Store' and file_name[-4:]!= '.wav' and file_name[-4:]!=\".png\" and file_name[-5:]!='ipynb' :\n",
        "      rel_dir = os.path.relpath(dir_, root_dir)\n",
        "      rel_file = os.path.join(rel_dir, file_name)\n",
        "      file_no_ext,ext=os.path.splitext(file_name)\n",
        "          \n",
        "      #Readind CSV file\n",
        "      df = pd.read_csv(root_dir + rel_file, index_col=None, header=None)\n",
        "\n",
        "      count = 0 #Reinitializing count for a fresh batch\n",
        "      end = df.shape[0] #Reading the no of rows in the CSV file\n",
        "\n",
        "      #This computed the total energy of the entire data file\n",
        "      total_energy_average=compute_total_energy_average(df)\n",
        "\n",
        "      #Generating RP Function for every 600 non overallaping samples (i.e, for each 600 rows of the csv file)\n",
        "      for i in range(0, end, 600):\n",
        "        f = i + 600\n",
        "        frame = df[i:f]\n",
        "\n",
        "        #Computing energy of the present frame of size 600 rows\n",
        "        sample_average=compute_total_energy_average(frame)\n",
        "\n",
        "        #This condition eliminates the unwanted low energy frames at the start & end of .wav files (Treshold -0.1)\n",
        "        if sample_average>0.1:\n",
        "          #Calling RP Generation function with following parameters (m -> 2, tau->6, and 0 Threshold)\n",
        "          generate_rp(frame, 2, None, 0, file_no_ext, count,6) \n",
        "          count +=1 \n",
        "      \n",
        "      file_names.append(root_dir+file_name)"
      ],
      "execution_count": null,
      "outputs": []
    },
    {
      "cell_type": "markdown",
      "metadata": {
        "id": "BhulvSA1Bebz"
      },
      "source": [
        "## **Energy Distribution Visualization**"
      ]
    },
    {
      "cell_type": "markdown",
      "metadata": {
        "id": "bjkFEja2M3IC"
      },
      "source": [
        "###**Imports**"
      ]
    },
    {
      "cell_type": "code",
      "metadata": {
        "id": "JEg9NCd0PZNj"
      },
      "source": [
        "import os\n",
        "import numpy as np\n",
        "from matplotlib import pyplot as plt\n",
        "import pandas as pd\n"
      ],
      "execution_count": null,
      "outputs": []
    },
    {
      "cell_type": "code",
      "metadata": {
        "id": "KwhW3HoTQgGF"
      },
      "source": [
        "!gdown --id 1gMR5uPC6NpBcwU25n-BIlSDhVfwi0oDo\n",
        "!unzip '6speakers_wav (1).zip'"
      ],
      "execution_count": null,
      "outputs": []
    },
    {
      "cell_type": "markdown",
      "metadata": {
        "id": "CslSaIF9S8oI"
      },
      "source": [
        "###**Plotting Energy Distribution Graph**"
      ]
    },
    {
      "cell_type": "code",
      "metadata": {
        "id": "qGdBWLXaBeb0"
      },
      "source": [
        "root_dir=\"/content/6speakers_wav (1)/6speakers_wav (1)/\"\n",
        "csv_plots=[]\n",
        "\n",
        "#using Anusuya for Energy Visualization \n",
        "for dir_, _, files in os.walk(root_dir+\"Anusuya/\"):\n",
        "  for file_name in files:\n",
        "    inference_sub=[]\n",
        "    if not file_name == '.DS_Store' and file_name[-4:]!= '.wav':\n",
        "      rel_dir = os.path.relpath(dir_, root_dir)\n",
        "      rel_file = os.path.join(rel_dir, file_name)\n",
        "      file_no_ext,ext=os.path.splitext(file_name)\n",
        "\n",
        "      df = pd.read_csv(root_dir + rel_file, index_col=None, header=None)\n",
        "      csv_plots.append(df)\n",
        "\n",
        "#Defining Plot Size and Divisions for visualization\n",
        "figure, axes = plt.subplots(nrows=5, ncols=3,sharey=True)\n",
        "figure.set_size_inches(18.5, 10.5)\n",
        "\n",
        "\n",
        "count=0\n",
        "for i in range(5):\n",
        "  for j in range(3):\n",
        "    y=csv_plots[count]\n",
        "\n",
        "    #Data Values for Plot\n",
        "    x=[i for i in range(0,len(csv_plots[count]))]\n",
        "    axes[i, j].plot(x, y)\n",
        "    count+=1\n"
      ],
      "execution_count": null,
      "outputs": []
    },
    {
      "cell_type": "code",
      "metadata": {
        "scrolled": true,
        "id": "tSvPrANbBeb1"
      },
      "source": [
        "#Energy Distribution Visualization\n",
        "figure, axes = plt.subplots(nrows=1, ncols=1,sharey=True)\n",
        "figure.set_size_inches(30, 30)\n",
        "\n",
        "plt.yticks(np.arange(0,6.5,0.5))\n",
        "\n",
        "count=0\n",
        "x=[i for i in range(600)]\n",
        "for i in range(7):\n",
        "    \n",
        "  for j in range(2):\n",
        "      \n",
        "    for k in range(len(inference[count])):\n",
        "      y=[inference[count][k]]*600\n",
        "      axes.plot(x, y)\n",
        "      \n",
        "      count+=1\n"
      ],
      "execution_count": null,
      "outputs": []
    },
    {
      "cell_type": "code",
      "metadata": {
        "id": "PG0jXIf2Beb1"
      },
      "source": [
        "#CSV File - Based Visualization\n",
        "\n",
        "figure, axes = plt.subplots(nrows=3, ncols=5,sharey=True)\n",
        "figure.set_size_inches(30, 30)\n",
        "\n",
        "plt.yticks(np.arange(0,6.5,0.5))\n",
        "\n",
        "\n",
        "\n",
        "count=0\n",
        "for i in range(3):\n",
        "    \n",
        "    for j in range(5):\n",
        "        x=[i for i in range(len(inference[count]))]\n",
        "        y=inference[count]\n",
        "        \n",
        "        axes[i,j].plot(x,y)\n",
        "        \n",
        "     \n",
        "        count+=1\n",
        "        "
      ],
      "execution_count": null,
      "outputs": []
    }
  ]
}